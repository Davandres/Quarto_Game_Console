{
 "cells": [
  {
   "cell_type": "markdown",
   "id": "82667f9c",
   "metadata": {},
   "source": [
    "# Test for `play_quarto`\n",
    "This notebook tests the `play_quarto` function by simulating a match between two AI players."
   ]
  },
  {
   "cell_type": "code",
   "execution_count": 5,
   "id": "280f6456",
   "metadata": {},
   "outputs": [],
   "source": [
    "import sys\n",
    "from pathlib import Path\n",
    "\n",
    "sys.path.append(str(Path(\"..\").resolve()))"
   ]
  },
  {
   "cell_type": "code",
   "execution_count": 13,
   "id": "a43ec9f3",
   "metadata": {},
   "outputs": [
    {
     "data": {
      "text/plain": [
       "'c:\\\\Users\\\\Laboratorio IA\\\\Desktop\\\\githubs\\\\Quartopy'"
      ]
     },
     "execution_count": 13,
     "metadata": {},
     "output_type": "execute_result"
    }
   ],
   "source": [
    "import os\n",
    "\n",
    "module_path = os.path.abspath(os.path.join(\"..\"))\n",
    "module_path"
   ]
  },
  {
   "cell_type": "code",
   "execution_count": 16,
   "id": "9072b5a8",
   "metadata": {},
   "outputs": [
    {
     "name": "stdout",
     "output_type": "stream",
     "text": [
      "The autoreload extension is already loaded. To reload it, use:\n",
      "  %reload_ext autoreload\n"
     ]
    }
   ],
   "source": [
    "%load_ext autoreload\n",
    "%autoreload 2\n",
    "from click.testing import CliRunner\n",
    "from quartopy import play_quarto"
   ]
  },
  {
   "cell_type": "code",
   "execution_count": 18,
   "id": "4c19006d",
   "metadata": {},
   "outputs": [],
   "source": [
    "# Must create a folder named partidas guardads\n",
    "runner = CliRunner()\n",
    "result = runner.invoke(\n",
    "    play_quarto,\n",
    "    [\n",
    "        \"--matches\",\n",
    "        \"4\",\n",
    "        \"--player1\",\n",
    "        \"ai1\",\n",
    "        \"--player2\",\n",
    "        \"ai2\",\n",
    "        \"--delay\",\n",
    "        \"0\",\n",
    "        \"--verbose\",\n",
    "    ],\n",
    ")"
   ]
  }
 ],
 "metadata": {
  "kernelspec": {
   "display_name": "Python 3",
   "language": "python",
   "name": "python3"
  },
  "language_info": {
   "codemirror_mode": {
    "name": "ipython",
    "version": 3
   },
   "file_extension": ".py",
   "mimetype": "text/x-python",
   "name": "python",
   "nbconvert_exporter": "python",
   "pygments_lexer": "ipython3",
   "version": "3.10.11"
  }
 },
 "nbformat": 4,
 "nbformat_minor": 5
}
